{
 "cells": [
  {
   "cell_type": "markdown",
   "metadata": {},
   "source": [
    "<img  src=http://repository.icesi.edu.co/biblioteca_digital/image/icesi-logo.svg height=\"250\" width=\"250\">\n",
    "\n",
    "**Autor: Felipe Cortes, Cristian Rodriguez**"
   ]
  },
  {
   "cell_type": "markdown",
   "metadata": {},
   "source": [
    "Se observaron cuantas veces se encuentra el número 7 en el dataset de imágenes de sklearn.datasets. "
   ]
  },
  {
   "cell_type": "code",
   "execution_count": 64,
   "metadata": {},
   "outputs": [],
   "source": [
    "from sklearn.datasets import load_digits\n",
    "import pylab as plt\n",
    "import numpy as np\n",
    "import pandas as pd\n",
    "from sklearn.model_selection import cross_val_score, cross_validate\n",
    "from sklearn.model_selection import train_test_split \n",
    "from sklearn.neighbors import KNeighborsClassifier\n",
    "from sklearn.metrics import confusion_matrix\n",
    "from sklearn.metrics import classification_report\n",
    "from sklearn import neighbors, metrics"
   ]
  },
  {
   "cell_type": "code",
   "execution_count": 65,
   "metadata": {},
   "outputs": [],
   "source": [
    "digits = load_digits()\n",
    "numImagenes = len(digits.images) # Numero de imagenes, len es un método que provee el tamaño del arreglo\n",
    "y = digits.target # el método nos provee las etiquetas de las imágenes en un arreglo\n",
    "numero = 9; # El número a buscar\n",
    "\n",
    "# Método que devuelve el total de números en el dataset\n",
    "def numeroTotal(num,totalImagenes):\n",
    "    numY = 0;\n",
    "    for i in range(totalImagenes):\n",
    "        if(y[i] == num):\n",
    "            numY += 1;\n",
    "    return numY;\n",
    "\n",
    "# Método que devuelve todas las imágenes del número pasado por parametro en el dataset\n",
    "def visualizarTodosNumeros(num,totalImagenes):\n",
    "    for i in range(totalImagenes):\n",
    "        if(y[i] == num):\n",
    "            plt.imshow(digits.images[i], cmap=plt.cm.gray_r)\n",
    "            plt.title('Pred:' + str(i))\n",
    "            plt.show()"
   ]
  },
  {
   "cell_type": "code",
   "execution_count": 69,
   "metadata": {},
   "outputs": [
    {
     "name": "stdout",
     "output_type": "stream",
     "text": [
      "Número total de imágenes: 1797\n",
      "Número total de  9  en el dataset:  180\n"
     ]
    }
   ],
   "source": [
    "# Mostrar la información: \n",
    "\n",
    "print('Número total de imágenes: ' + str(numImagenes));\n",
    "print('Número total de ', numero , ' en el dataset: ', numeroTotal(numero,numImagenes));"
   ]
  },
  {
   "cell_type": "markdown",
   "metadata": {},
   "source": [
    "<img  src=https://upload.wikimedia.org/wikipedia/commons/thumb/e/e7/KnnClassification.svg/220px-KnnClassification.svg.png\n",
    " height=\"250\" width=\"250\">\n",
    "\n",
    "\n",
    "\n",
    "\n",
    "# Análisis global\n",
    "\n",
    "Se pretende probar la capacidad del modelo de Machine Learning KNN ó K Nearest Neighbors que requiere la especificación del parámetro K, con el número de vecinos que se considerarán para tomar la decisión de clasificación (recuerden que K-NN también permite hacer regresión).\n",
    "\n",
    "A continuación, se implementara el algoritmo KNN sobre todo el Dataset N-MIST teniendo en cuenta que no solo se analizará a un número en particular sino que a todos los números y como es capaz de encontrar las asociaciones."
   ]
  },
  {
   "cell_type": "code",
   "execution_count": 72,
   "metadata": {},
   "outputs": [],
   "source": [
    "# Se cargan las imágenes y los respectivos resultados asociados a cada imágen. \n",
    "digits = load_digits()\n",
    "X = np.array(digits.data)\n",
    "Y = digits.target"
   ]
  },
  {
   "cell_type": "markdown",
   "metadata": {},
   "source": [
    "Dado que es importante dividir el dataset, 60% de los datos se van a utilizar para aprender, 40% para evaluar el modelo de clasificación.\n",
    "Utilizamos el método *train_test_split* de scikit-learn, que se encarga de hacer el particionamiento aleatorio. \n",
    "\n",
    "Por otra parte, se destinará un 10% de los datos de prueba para realizar una validación sobre las pruebas. "
   ]
  },
  {
   "cell_type": "code",
   "execution_count": 73,
   "metadata": {},
   "outputs": [],
   "source": [
    "(trainData, testData, trainLabels, testLabels) = train_test_split(np.array(X), \n",
    "                                            Y, test_size=0.4, random_state=42, stratify=Y)\n",
    "\n",
    "(trainData, valData, trainLabels, valLabels) = train_test_split(trainData, trainLabels,\n",
    "test_size=0.1, random_state=84)"
   ]
  },
  {
   "cell_type": "markdown",
   "metadata": {},
   "source": [
    "Posteriormente, ajustaremos el modelo a los datos de entrenamiento y los resultados los validaremos con los datos de prueba y su respectiva validación. "
   ]
  },
  {
   "cell_type": "code",
   "execution_count": 74,
   "metadata": {},
   "outputs": [
    {
     "name": "stdout",
     "output_type": "stream",
     "text": [
      "k=1, accuracy=98.15%\n",
      "k=3, accuracy=98.15%\n",
      "k=5, accuracy=98.15%\n",
      "k=7, accuracy=97.22%\n",
      "k=9, accuracy=99.07%\n",
      "k=11, accuracy=98.15%\n",
      "k=13, accuracy=97.22%\n",
      "k=15, accuracy=98.15%\n",
      "k=17, accuracy=98.15%\n",
      "k=19, accuracy=97.22%\n",
      "k=21, accuracy=97.22%\n",
      "k=23, accuracy=97.22%\n",
      "k=25, accuracy=96.30%\n",
      "k=27, accuracy=95.37%\n",
      "k=29, accuracy=95.37%\n"
     ]
    }
   ],
   "source": [
    "kVals = range(1, 30,2)\n",
    "accuracies = []\n",
    "for k in range(1, 30, 2):\n",
    "          model = KNeighborsClassifier(n_neighbors=k)\n",
    "          model.fit(trainData, trainLabels)\n",
    "          score = model.score(valData, valLabels)\n",
    "          print(\"k=%d, accuracy=%.2f%%\" % (k, score * 100))\n",
    "          accuracies.append(score)"
   ]
  },
  {
   "cell_type": "markdown",
   "metadata": {},
   "source": [
    "Para el análisis global encontramos que el K más obtimo para realizar el ajuste del modelo es K=9."
   ]
  },
  {
   "cell_type": "markdown",
   "metadata": {},
   "source": [
    "# Matriz de Confución\n",
    "\n",
    "\n",
    "<img  src=https://upload.wikimedia.org/wikipedia/commons/9/9c/Matriz_confusion.png\n",
    " height=\"250\" width=\"250\">\n",
    " \n"
   ]
  },
  {
   "cell_type": "code",
   "execution_count": 76,
   "metadata": {},
   "outputs": [],
   "source": [
    "model = KNeighborsClassifier(n_neighbors=9)\n",
    "model.fit(trainData, trainLabels)\n",
    "y_pred = model.predict(X)"
   ]
  },
  {
   "cell_type": "code",
   "execution_count": 80,
   "metadata": {},
   "outputs": [
    {
     "data": {
      "text/plain": [
       "array([0, 1, 2, 3, 4, 5, 6, 7, 8, 9])"
      ]
     },
     "execution_count": 80,
     "metadata": {},
     "output_type": "execute_result"
    }
   ],
   "source": [
    "digits.target_names"
   ]
  },
  {
   "cell_type": "code",
   "execution_count": 79,
   "metadata": {},
   "outputs": [
    {
     "data": {
      "text/plain": [
       "([<matplotlib.axis.YTick at 0x7f999712e470>,\n",
       "  <matplotlib.axis.YTick at 0x7f9997140d68>,\n",
       "  <matplotlib.axis.YTick at 0x7f9996fe0208>,\n",
       "  <matplotlib.axis.YTick at 0x7f9997122160>,\n",
       "  <matplotlib.axis.YTick at 0x7f99971225f8>,\n",
       "  <matplotlib.axis.YTick at 0x7f999711a198>,\n",
       "  <matplotlib.axis.YTick at 0x7f99971066d8>,\n",
       "  <matplotlib.axis.YTick at 0x7f9997122c88>,\n",
       "  <matplotlib.axis.YTick at 0x7f9997122e80>,\n",
       "  <matplotlib.axis.YTick at 0x7f999708d4e0>],\n",
       " <a list of 10 Text yticklabel objects>)"
      ]
     },
     "execution_count": 79,
     "metadata": {},
     "output_type": "execute_result"
    },
    {
     "data": {
      "image/png": "[encoded data removed]",
      "text/plain": [
       "<Figure size 432x288 with 2 Axes>"
      ]
     },
     "metadata": {
      "needs_background": "light"
     },
     "output_type": "display_data"
    }
   ],
   "source": [
    "cm= metrics.confusion_matrix(Y, y_pred)\n",
    "plt.imshow(cm, cmap=plt.cm.Blues)\n",
    "plt.title(\"Matriz de confusión para K=9\")\n",
    "plt.colorbar()\n",
    "tick_marks = np.arange(10)\n",
    "plt.xticks(tick_marks, digits.target_names)\n",
    "plt.yticks(tick_marks, digits.target_names)"
   ]
  },
  {
   "cell_type": "code",
   "execution_count": 81,
   "metadata": {},
   "outputs": [
    {
     "name": "stdout",
     "output_type": "stream",
     "text": [
      "[[178   0   0   0   0   0   0   0   0   0]\n",
      " [  0 182   0   0   0   0   0   0   0   0]\n",
      " [  0   3 173   0   0   0   0   1   0   0]\n",
      " [  0   0   0 182   0   0   0   1   0   0]\n",
      " [  0   1   0   0 177   0   0   3   0   0]\n",
      " [  0   0   0   0   1 178   1   0   0   2]\n",
      " [  0   1   0   0   0   0 180   0   0   0]\n",
      " [  0   0   0   0   0   0   0 179   0   0]\n",
      " [  0   9   0   2   0   0   0   1 162   0]\n",
      " [  0   0   0   1   0   2   0   4   1 172]]\n",
      "Exactitud:  0.9810795770728993\n",
      "Kappa    :  0.9789761280055056\n",
      "-------------------------------------\n"
     ]
    }
   ],
   "source": [
    "print(cm)\n",
    "print(\"Exactitud: \", metrics.accuracy_score(Y, y_pred))\n",
    "print(\"Kappa    : \", metrics.cohen_kappa_score(Y, y_pred))\n",
    "print(\"-------------------------------------\")"
   ]
  },
  {
   "cell_type": "markdown",
   "metadata": {},
   "source": [
    "\n",
    "<img  src=https://hollandbikeshop.com/img/prod/gmg-yepp-abc-digito-9-8715362005878-0-l.jpg\n",
    " height=\"250\" width=\"250\">\n",
    " \n",
    "# Análisis preliminar Sólo dígito 9 "
   ]
  },
  {
   "cell_type": "markdown",
   "metadata": {},
   "source": [
    "Dado que se consideró que erá necesario contrastar el modelo mecánico de un sólo digito con el modelo de machine learning que utilizaba el algoritmo KNN se intento realizar un modelo que solo predijiera el dígito 9."
   ]
  },
  {
   "cell_type": "code",
   "execution_count": 82,
   "metadata": {},
   "outputs": [],
   "source": [
    "def arreglo_numero(num,totalImagenes):\n",
    "    arreglo = []\n",
    "    for i in range(totalImagenes):\n",
    "        if(y[i] == num):\n",
    "            arreglo.append(digits.data[i])\n",
    "    return arreglo"
   ]
  },
  {
   "cell_type": "code",
   "execution_count": 83,
   "metadata": {},
   "outputs": [],
   "source": [
    "def arreglo_numero_label(num,totalImagenes):\n",
    "    arreglo = [];\n",
    "    for i in range(totalImagenes):\n",
    "        if(y[i] == num):\n",
    "            arreglo.append(y[i])\n",
    "    return arreglo"
   ]
  },
  {
   "cell_type": "code",
   "execution_count": 102,
   "metadata": {},
   "outputs": [],
   "source": [
    "numImagenes = len(digits.images)\n",
    "\n",
    "X = arreglo_numero(9, numImagenes)\n",
    "Y = []\n",
    "for i in range(numImagenes):\n",
    "    Y.append(9)"
   ]
  },
  {
   "cell_type": "code",
   "execution_count": 103,
   "metadata": {},
   "outputs": [],
   "source": [
    "(trainData, testData, trainLabels, testLabels) = train_test_split(np.array(digits.data), \n",
    "                                            Y, test_size=0.25, random_state=42, stratify=Y)\n",
    "\n",
    "(trainData, valData, trainLabels, valLabels) = train_test_split(trainData, trainLabels,\n",
    "test_size=0.1, random_state=84)"
   ]
  },
  {
   "cell_type": "code",
   "execution_count": 104,
   "metadata": {},
   "outputs": [
    {
     "name": "stdout",
     "output_type": "stream",
     "text": [
      "k=1, accuracy=100.00%\n",
      "k=3, accuracy=100.00%\n",
      "k=5, accuracy=100.00%\n",
      "k=7, accuracy=100.00%\n",
      "k=9, accuracy=100.00%\n",
      "k=11, accuracy=100.00%\n",
      "k=13, accuracy=100.00%\n",
      "k=15, accuracy=100.00%\n",
      "k=17, accuracy=100.00%\n",
      "k=19, accuracy=100.00%\n",
      "k=21, accuracy=100.00%\n",
      "k=23, accuracy=100.00%\n",
      "k=25, accuracy=100.00%\n",
      "k=27, accuracy=100.00%\n",
      "k=29, accuracy=100.00%\n"
     ]
    }
   ],
   "source": [
    "kVals = range(1, 30,2)\n",
    "accuracies = []\n",
    "\n",
    "for k in range(1, 30, 2):\n",
    "          model = KNeighborsClassifier(n_neighbors=k)\n",
    "          model.fit(trainData, trainLabels)\n",
    "          score = model.score(valData, valLabels)\n",
    "          print(\"k=%d, accuracy=%.2f%%\" % (k, score * 100))\n",
    "          accuracies.append(score)\n",
    "        "
   ]
  },
  {
   "cell_type": "markdown",
   "metadata": {},
   "source": [
    "\n",
    "<img  src=http://ugelputina.edu.pe/site/wp-content/uploads/2018/12/RESULTADOS.png height=\"250\" width=\"250\">\n",
    "\n",
    "\n",
    "# Análisis de los resultados\n",
    "\n",
    "+ El accuracy y kappa global de cada clasificador\n",
    "+ El precision, recall, especificidad y F-Measure de cada clase"
   ]
  },
  {
   "cell_type": "code",
   "execution_count": 102,
   "metadata": {},
   "outputs": [],
   "source": [
    "#Pruebas de la veracidad del modelo mecánico\n",
    "\n",
    "# Método para calcular predicción verdadera\n",
    "def prediccion_realidad(numero, totalImagenes):\n",
    "    num = 0;\n",
    "    for i in range(totalImagenes):\n",
    "        if((y[i] == numero)):\n",
    "            if (detectar_numero(digits.images[i]) == True):\n",
    "                num += 1;\n",
    "    return num;\n",
    "\n",
    "# Método para calcular falso positivo\n",
    "def prediccion_no_realidad(numero, totalImagenes):\n",
    "    num = 0;\n",
    "    for i in range(totalImagenes):\n",
    "        if((y[i] != numero)):\n",
    "            if (detectar_numero(digits.images[i]) == True):\n",
    "                num += 1;\n",
    "    return num;\n",
    "\n",
    "# Método para calcular falso negativo\n",
    "def no_prediccion_realidad(numero, totalImagenes):\n",
    "    num = 0;\n",
    "    for i in range(totalImagenes):\n",
    "        if((y[i] == numero)):\n",
    "            if (detectar_numero(digits.images[i]) != True):\n",
    "                num += 1;\n",
    "    return num;\n",
    "\n",
    "# Método para calcular verdadero negativo\n",
    "def no_prediccion_no_realidad(numero, totalImagenes):\n",
    "    num = 0;\n",
    "    for i in range(totalImagenes):\n",
    "        if((y[i] != numero)):\n",
    "            if (detectar_numero(digits.images[i]) != True):\n",
    "                num += 1;\n",
    "    return num;\n",
    "\n"
   ]
  },
  {
   "cell_type": "code",
   "execution_count": 103,
   "metadata": {},
   "outputs": [
    {
     "name": "stdout",
     "output_type": "stream",
     "text": [
      "-------------------------------------------------\n",
      "Pruebas\n",
      "-------------------------------------------------\n",
      "Número total de imágenes: 1797\n",
      "-------------------------------------------------\n",
      "Número total de 9 es de 180.\n",
      "-------------------------------------------------\n",
      "Numero de predicciones verdaderas:  3\n",
      "-------------------------------------------------\n",
      "Numero de falsos positivos:  11\n",
      "-------------------------------------------------\n",
      "Numero de falsos negativos:  177\n",
      "-------------------------------------------------\n",
      "Numero de verdaderos negativos:  1606\n",
      "-------------------------------------------------\n"
     ]
    }
   ],
   "source": [
    "numero = 9;\n",
    "total = numeroTotal(numero,numImagenes);\n",
    "vp = prediccion_realidad(numero,numImagenes);\n",
    "fp = prediccion_no_realidad(numero,numImagenes);\n",
    "fn = no_prediccion_realidad(numero,numImagenes);\n",
    "vn = no_prediccion_no_realidad(numero,numImagenes);\n",
    "print(\"-------------------------------------------------\")\n",
    "print(\"Pruebas\")\n",
    "print(\"-------------------------------------------------\")\n",
    "print(\"Número total de imágenes: \" + str(numImagenes));\n",
    "print(\"-------------------------------------------------\")\n",
    "print(\"Número total de \" + str(numero) + \" es de \" + str(total)  + \".\");\n",
    "print(\"-------------------------------------------------\")\n",
    "print(\"Numero de predicciones verdaderas: \", str(vp));\n",
    "print(\"-------------------------------------------------\")\n",
    "print(\"Numero de falsos positivos: \", str(fp));\n",
    "print(\"-------------------------------------------------\")\n",
    "print(\"Numero de falsos negativos: \", str(fn));\n",
    "print(\"-------------------------------------------------\")\n",
    "print(\"Numero de verdaderos negativos: \", str(vn));\n",
    "print(\"-------------------------------------------------\")"
   ]
  },
  {
   "cell_type": "code",
   "execution_count": 104,
   "metadata": {},
   "outputs": [],
   "source": [
    "# Tasa de correctitud (accuracy)\n",
    "def accuracy(vp, fp, fn, vn):\n",
    "    resultado = (vp+vn)/(vp+fp+fn+vn);\n",
    "    return resultado;\n",
    "\n",
    "# Error de mala clasificación (contrario de accuracy)\n",
    "def accuracy_opposite(vp, fp, fn, vn):\n",
    "    resultado = (fp+fn)/(vp+fp+fn+vn);\n",
    "    return resultado;\n",
    "\n",
    "# Precisión\n",
    "def precision(vp, fp, fn, vn):\n",
    "    resultado = (vp)/(vp+fp);\n",
    "    return resultado;\n",
    "\n",
    "# Recall (o TPR o sensibilidad)\n",
    "def recall(vp, fp, fn, vn):\n",
    "    resultado = (vp)/(vp+fn);\n",
    "    return resultado;\n",
    "\n",
    "# Especificidad (o TNR)\n",
    "def especificidad(vp, fp, fn, vn):\n",
    "    resultado = (vn)/(fp+vn);\n",
    "    return resultado;\n",
    "\n",
    "# Valor de predicción negativa (FPR)\n",
    "def valor_precision_negativa(vp, fp, fn, vn):\n",
    "    resultado = (vn)/(fn+vn);\n",
    "    return resultado;\n",
    "\n",
    "# F1-Measure\n",
    "def f1_Measure(vp, fp, fn, vn):\n",
    "    p = precision(vp,fp,fn,vn);\n",
    "    r = recall(vp,fp,fn,vn)\n",
    "    resultado = 2*((p*r)/(p+r));\n",
    "    return resultado;\n",
    "\n",
    "# Concordancia entre las predicciones \n",
    "def probabilidad_aciertos(vp, fp, fn, vn):\n",
    "    p_si = ((vp+fp)/(vp+fp+vn+fn))*accuracy(vp,fp,fn,vn);\n",
    "    p_no = ((vn+fn)/(vp+fp+vn+fn))*accuracy_opposite(vp,fp,fn,vn);\n",
    "    return p_si + p_no;\n",
    "\n",
    "# Coeficiente de concordancia Kappa\n",
    "def kappa(vp, fp, fn, vn):\n",
    "    p = probabilidad_aciertos(vp, fp, fn, vn);\n",
    "    a = accuracy(vp,fp,fn,vn);\n",
    "    return (a-p)/(1-p);"
   ]
  },
  {
   "cell_type": "code",
   "execution_count": 105,
   "metadata": {},
   "outputs": [
    {
     "name": "stdout",
     "output_type": "stream",
     "text": [
      "-------------------------------------------------\n",
      "Análisis\n",
      "-------------------------------------------------\n",
      "Número total de imágenes: 1797\n",
      "-------------------------------------------------\n",
      "Metricas del Modelo Mecánico. \n",
      "-------------------------------------------------\n",
      "Tasa de correctitud o Accuracy: 0.8953811908736784\n",
      "-------------------------------------------------\n",
      "Error de mala clasificación (contrario de accuracy): 0.10461880912632164\n",
      "-------------------------------------------------\n",
      "Precision: 0.21428571428571427\n",
      "-------------------------------------------------\n",
      "Recall: 0.016666666666666666\n",
      "-------------------------------------------------\n",
      "Especificidad:  0.9931972789115646\n",
      "-------------------------------------------------\n",
      "Valor_precision_negativa (FPR): 0.9007291082445317\n",
      "-------------------------------------------------\n",
      "F1-Measure: 0.030927835051546393\n",
      "-------------------------------------------------\n",
      "Kappa: 0.8823477378730613\n",
      "-------------------------------------------------\n"
     ]
    }
   ],
   "source": [
    "numero = 9;\n",
    "total = numeroTotal(numero,numImagenes);\n",
    "vp = prediccion_realidad(numero,numImagenes);\n",
    "fp = prediccion_no_realidad(numero,numImagenes);\n",
    "fn = no_prediccion_realidad(numero,numImagenes);\n",
    "vn = no_prediccion_no_realidad(numero,numImagenes);\n",
    "print(\"-------------------------------------------------\")\n",
    "print(\"Análisis\")\n",
    "print(\"-------------------------------------------------\")\n",
    "print(\"Número total de imágenes: \" + str(numImagenes));\n",
    "print(\"-------------------------------------------------\")\n",
    "print(\"Metricas del Modelo Mecánico. \");\n",
    "print(\"-------------------------------------------------\")\n",
    "print(\"Tasa de correctitud o Accuracy: \" + str(accuracy(vp,fp,fn,vn)));\n",
    "print(\"-------------------------------------------------\")\n",
    "print(\"Error de mala clasificación (contrario de accuracy): \" + str(accuracy_opposite(vp,fp,fn,vn)));\n",
    "print(\"-------------------------------------------print(Y)------\")\n",
    "print(\"Precision: \" + str(precision(vp,fp,fn,vn)));\n",
    "print(\"-------------------------------------------------\")\n",
    "print(\"Recall: \" + str(recall(vp,fp,fn,vn)));\n",
    "print(\"-------------------------------------------------\")\n",
    "print(\"Especificidad: \", str(especificidad(vp,fp,fn,vn)));\n",
    "print(\"-------------------------------------------------\")\n",
    "print(\"Valor_precision_negativa (FPR): \" + str(valor_precision_negativa(vp,fp,fn,vn)));\n",
    "print(\"-------------------------------------------------\")\n",
    "print(\"F1-Measure: \" + str(f1_Measure(vp,fp,fn,vn)));\n",
    "print(\"-------------------------------------------------\")\n",
    "print(\"Kappa: \" + str(kappa(vp,fp,fn,vn)));\n",
    "print(\"-------------------------------------------------\")"
   ]
  },
  {
   "cell_type": "code",
   "execution_count": null,
   "metadata": {},
   "outputs": [],
   "source": []
  }
 ],
 "metadata": {
  "kernelspec": {
   "display_name": "Python 3",
   "language": "python",
   "name": "python3"
  },
  "language_info": {
   "codemirror_mode": {
    "name": "ipython",
    "version": 3
   },
   "file_extension": ".py",
   "mimetype": "text/x-python",
   "name": "python",
   "nbconvert_exporter": "python",
   "pygments_lexer": "ipython3",
   "version": "3.7.1"
  }
 },
 "nbformat": 4,
 "nbformat_minor": 2
}
