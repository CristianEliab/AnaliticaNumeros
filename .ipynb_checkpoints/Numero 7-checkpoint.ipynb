{
 "cells": [
  {
   "cell_type": "markdown",
   "metadata": {},
   "source": [
    "<img  src=http://repository.icesi.edu.co/biblioteca_digital/image/icesi-logo.svg height=\"250\" width=\"250\">\n",
    "\n",
    "**Autor: Felipe Cortes, Cristian Rodriguez**"
   ]
  },
  {
   "cell_type": "markdown",
   "metadata": {},
   "source": [
    "Se observaron cuantas veces se encuentra el número 7 en el dataset de imágenes de sklearn.datasets. "
   ]
  },
  {
   "cell_type": "code",
   "execution_count": 98,
   "metadata": {},
   "outputs": [],
   "source": [
    "from sklearn.datasets import load_digits\n",
    "import pylab as plt"
   ]
  },
  {
   "cell_type": "code",
   "execution_count": 99,
   "metadata": {},
   "outputs": [],
   "source": [
    "digits = load_digits()\n",
    "numImagenes = len(digits.images) # Numero de imagenes, len es un método que provee el tamaño del arreglo\n",
    "y = digits.target # el método nos provee las etiquetas de las imágenes en un arreglo\n",
    "numero = 7; # El número a buscar\n",
    "\n",
    "# Método que devuelve el total de números en el dataset\n",
    "def numeroTotal(num,totalImagenes):\n",
    "    numY = 0;\n",
    "    for i in range(totalImagenes):\n",
    "        if(y[i] == num):\n",
    "            numY += 1;\n",
    "    return numY;\n",
    "\n",
    "# Método que devuelve todas las imágenes del número pasado por parametro en el dataset\n",
    "def visualizarTodosNumeros(num,totalImagenes):\n",
    "    for i in range(totalImagenes):\n",
    "        if(y[i] == num):\n",
    "            plt.imshow(digits.images[i], cmap=plt.cm.gray_r)\n",
    "            plt.title('Pred: %i' + str(i))\n",
    "    plt.show()\n",
    "\n",
    "def visualizacion_2():\n",
    "    images_and_predictions = list(zip(digits.images, y))\n",
    "    for index, (image, prediction) in enumerate(images_and_predictions[:4]):\n",
    "        plt.matshow(digits.images[index]) # Imprimir una imagen dada\n",
    "        print(digits.images[index])\n",
    "        plt.title('Pred: %i' % prediction)\n",
    "        plt.show()"
   ]
  },
  {
   "cell_type": "code",
   "execution_count": 100,
   "metadata": {},
   "outputs": [
    {
     "name": "stdout",
     "output_type": "stream",
     "text": [
      "Número total de imágenes: 1797\n",
      "Número total de 7 en el dataset: 179\n"
     ]
    }
   ],
   "source": [
    "# Mostrar la información: \n",
    "\n",
    "print('Número total de imágenes: ' + str(numImagenes));\n",
    "print('Número total de 7 en el dataset: ' + str(numeroTotal(numero,numImagenes)));"
   ]
  },
  {
   "cell_type": "code",
   "execution_count": 101,
   "metadata": {},
   "outputs": [
    {
     "data": {
      "image/png": "[encoded data removed]",
      "text/plain": [
       "<Figure size 432x288 with 1 Axes>"
      ]
     },
     "metadata": {
      "needs_background": "light"
     },
     "output_type": "display_data"
    }
   ],
   "source": [
    "# Método que devuelve todas las imágenes del número pasado por parametro en el dataset\n",
    "\n",
    "visualizarTodosNumeros(numero,numImagenes)"
   ]
  },
  {
   "cell_type": "code",
   "execution_count": 102,
   "metadata": {},
   "outputs": [],
   "source": [
    "\n",
    "def ver_linea_superior(imagen):\n",
    "    acerto = True;\n",
    "    return acerto;\n",
    "\n",
    "def ver_linea_intermedia(imagen):\n",
    "    acerto = True;\n",
    "    return acerto;\n",
    "\n",
    "def ver_linea_inferior(imagen):\n",
    "    acerto = True;\n",
    "    return acerto;\n",
    "\n",
    "def ver_diagonal(imagen):\n",
    "    acerto = True;\n",
    "    return acerto;"
   ]
  },
  {
   "cell_type": "code",
   "execution_count": 103,
   "metadata": {},
   "outputs": [
    {
     "name": "stdout",
     "output_type": "stream",
     "text": [
      "Numero de dos encontrados correctamente:  179\n"
     ]
    }
   ],
   "source": [
    "\n",
    "def detectar_numero(imagen):\n",
    "    acerto = True;\n",
    "    return acerto;\n",
    "\n",
    "def modeloMecanico():\n",
    "    numAciertos = 0;\n",
    "    for i in range(numImagenes):\n",
    "        if((detectar_numero(digits.images[i]) == True) and (y[i] == 7)):\n",
    "            numAciertos += 1;\n",
    "    return numAciertos;\n",
    "            \n",
    "print (\"Numero de dos encontrados correctamente: \", str(modeloMecanico()))"
   ]
  },
  {
   "cell_type": "code",
   "execution_count": 104,
   "metadata": {},
   "outputs": [],
   "source": [
    "aciertos = 0\n",
    "totales = 0\n",
    "def limpiar(matrizImagen):\n",
    "    \n",
    "    for i in range(8):\n",
    "        for j in range(8):\n",
    "            if (matrizImagen[i,j]<9):\n",
    "                matrizImagen[i,j] = 0\n",
    "    return matrizImagen\n",
    "\n",
    "\n",
    "def contarPuntosCurva(matrizImagen,i,j):\n",
    "    cantidad = 0\n",
    "    if(i>=1 and j>=1 and i<6 and j<6):\n",
    "        if (matrizImagen[i,j+1]>8):\n",
    "            cantidad = cantidad+1 \n",
    "        if (matrizImagen[i+1,j-1]>8):\n",
    "            cantidad = cantidad+1 \n",
    "        if (matrizImagen[i+1,j]>8):\n",
    "            cantidad = cantidad+1 \n",
    "        if (matrizImagen[i+1,j+1]>8):\n",
    "            cantidad = cantidad+1 \n",
    "    return cantidad\n",
    "\n",
    "def encontrarCurva(matrizImagen):\n",
    "    respuestaCurva = False\n",
    "    valor = 0\n",
    "    for i in range(8):\n",
    "        for j in range(8):\n",
    "            if (matrizImagen[i,j]>8):\n",
    "                valor = contarPuntosCurva(matrizImagen,i,j)\n",
    "                if valor>2:\n",
    "                    respuestaCurva = True\n",
    "    return respuestaCurva;\n",
    "\n",
    "\n",
    "def inicial(matriz):\n",
    "    for i in range(7,4):\n",
    "        for j in range(1,4):\n",
    "            if (matrizImagen[i,j]>8):\n",
    "                return i,j\n",
    "    return 7,1\n",
    "\n",
    "def isRecta(matriz,i,j):\n",
    "    cantidadCiclos = 0\n",
    "    termino = False\n",
    "    if(cantidadCiclos>3):\n",
    "        termino = True\n",
    "\n",
    "    if (i<7):\n",
    "        if (matriz[i-1,j+1]>8 and termino==False):\n",
    "            cantidadCiclos = cantidadCiclos+1\n",
    "            isRecta(matriz,i-1,j+1)\n",
    "        if (matriz[i,j+1]>8 and termino==False):\n",
    "            cantidadCiclos = cantidadCiclos+1\n",
    "            isRecta(matriz,i,j+1)\n",
    "\n",
    "        if (matriz[i+1,j+1]>8 and termino==False):\n",
    "            cantidadCiclos = cantidadCiclos+1\n",
    "            isRecta(matriz,i+1,j+1)\n",
    "    return termino\n",
    "\n",
    "def encontrarDiagonal(matrizImagen):\n",
    "    encontro = False\n",
    "    inicialX,inicialY = inicial(matrizImagen)\n",
    "    respu=isDiagonal(matrizImagen,inicialX,inicialY)\n",
    "    if(respu==True):\n",
    "        encontro = True\n",
    "    return encontro\n",
    "\n",
    "def isDiagonal(matriz,i,j):\n",
    "    cantidadCiclos = 0\n",
    "    termino = False\n",
    "    if(cantidadCiclos>3):\n",
    "        termino = True\n",
    "    if(i>=1 and j>=1 and i<6 and j<6):\n",
    "        if (matriz[i-1,j]>8 and termino==False):\n",
    "            cantidadCiclos = cantidadCiclos+1\n",
    "            isDiagonal(matriz,i-1,j)\n",
    "        if (matriz[i-1,j+1]>8 and termino == False):\n",
    "            cantidadCiclos = cantidadCiclos+1\n",
    "            isDiagonal(matriz,i-1,j+1)\n",
    "        if (matriz[i,j+1]>8 and termino == False):\n",
    "            cantidadCiclos = cantidadCiclos+1\n",
    "            isDiagonal(matriz,i,j+1)\n",
    "    return termino\n",
    "\n",
    "def EncontrarRecta(matrizImagen) :\n",
    "    encontro=False\n",
    "    if(matrizImagen[7][2]>8 or matrizImagen[6][2]>8 ):\n",
    "        if (matrizImagen[7][3]>8 or matrizImagen[6][3]>8 ) :\n",
    "            if (matrizImagen[7][4]>8 or matrizImagen[6][4]>8 ):\n",
    "                encontro=True\n",
    "    return encontro\n",
    "\n",
    "def detectarnumero2(imagen):\n",
    "    respuesta = False\n",
    "    imagen = limpiar(imagen)\n",
    "    r1 = encontrarCurva(imagen)\n",
    "    r2 = encontrarDiagonal(imagen)\n",
    "    r3 = EncontrarRecta(imagen)\n",
    "    if (r1==r2==r3==True):\n",
    "        respuesta = True\n",
    "    if (r3==True):\n",
    "        respuesta = True\n",
    "    print(respuesta)\n",
    "        \n",
    "    return respuesta\n",
    "\n",
    "\n",
    "\n",
    "        \n",
    "for m in range(1797):\n",
    "    if( y[m] == 2):\n",
    "        totales += 1\n",
    "                \n",
    "\n",
    "        \n",
    "\n",
    "            \n",
    "            "
   ]
  },
  {
   "cell_type": "code",
   "execution_count": null,
   "metadata": {},
   "outputs": [],
   "source": []
  },
  {
   "cell_type": "code",
   "execution_count": null,
   "metadata": {},
   "outputs": [],
   "source": []
  },
  {
   "cell_type": "code",
   "execution_count": null,
   "metadata": {},
   "outputs": [],
   "source": []
  }
 ],
 "metadata": {
  "kernelspec": {
   "display_name": "Python 3",
   "language": "python",
   "name": "python3"
  },
  "language_info": {
   "codemirror_mode": {
    "name": "ipython",
    "version": 3
   },
   "file_extension": ".py",
   "mimetype": "text/x-python",
   "name": "python",
   "nbconvert_exporter": "python",
   "pygments_lexer": "ipython3",
   "version": "3.7.0"
  }
 },
 "nbformat": 4,
 "nbformat_minor": 2
}
